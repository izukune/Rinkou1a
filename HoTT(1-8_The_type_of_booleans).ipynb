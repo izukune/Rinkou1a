{
 "cells": [
  {
   "cell_type": "markdown",
   "id": "da84a706",
   "metadata": {},
   "source": [
    "### 1.8 The type of booleans"
   ]
  },
  {
   "cell_type": "markdown",
   "id": "04b6ecad",
   "metadata": {},
   "source": [
    "ブーリアンの型 $2 : U$ は，ちょうど2つの要素 $0_2,1_2 : 2$ を持つように意図されている．この型は，coproduct typeとunit typeから$1＋1$として構成できることは明らかです．\n",
    "\n",
    "しかし，この型は頻繁に使用されるので，ここでは明示的な規則を与えることにする．\n",
    "\n",
    "実際、逆にΣ型と2からbinary coproductsを導出することも可能であることを観察するつもりである。"
   ]
  },
  {
   "cell_type": "code",
   "execution_count": null,
   "id": "22233209",
   "metadata": {},
   "outputs": [],
   "source": []
  }
 ],
 "metadata": {
  "kernelspec": {
   "display_name": "Python 3",
   "language": "python",
   "name": "python3"
  },
  "language_info": {
   "codemirror_mode": {
    "name": "ipython",
    "version": 3
   },
   "file_extension": ".py",
   "mimetype": "text/x-python",
   "name": "python",
   "nbconvert_exporter": "python",
   "pygments_lexer": "ipython3",
   "version": "3.8.6"
  }
 },
 "nbformat": 4,
 "nbformat_minor": 5
}

{
 "cells": [
  {
   "cell_type": "markdown",
   "id": "a9de256d",
   "metadata": {},
   "source": [
    "ホモトピー型理論　ノート"
   ]
  },
  {
   "cell_type": "markdown",
   "id": "a5c1cc4c",
   "metadata": {},
   "source": [
    "***\n",
    "#### 1.2 Function types"
   ]
  },
  {
   "cell_type": "markdown",
   "id": "b469b3bf",
   "metadata": {},
   "source": [
    "型A, Bが与えられた時、$A \\to B$となるものを関数(functions)とする。よく写像を参照する。\n",
    "\n",
    "$f:A \\to B$と定義域(domain)の元$a:A$が与えられた時、fを適用(apply)して、値域の元$b:B$を得られる。\n",
    "\n",
    "$b$は$f(a)$であり、これは$a$の時の$f$の値（value）である。"
   ]
  },
  {
   "cell_type": "markdown",
   "id": "49592c9d",
   "metadata": {},
   "source": [
    "ここで$A \\to B$という型の元を構築するのか？\n",
    "以下の二つの方法がある。\n",
    "- 直接定義(direct definition)\n",
    "- λ-抽象(λ-abstraction)"
   ]
  },
  {
   "cell_type": "markdown",
   "id": "8ffba9f7",
   "metadata": {},
   "source": [
    "直接定義は$f:A\\to B$のような元$f$を定義し$f(x) :\\equiv \\Phi$とする。"
   ]
  },
  {
   "cell_type": "markdown",
   "id": "e96e07d2",
   "metadata": {},
   "source": [
    "名前を定義しない方法がλ-abstractionである。\n",
    "\n",
    "$(\\lambda (x : A).\\Phi): A \\to B$"
   ]
  },
  {
   "cell_type": "markdown",
   "id": "f736f22b",
   "metadata": {},
   "source": [
    "***\n",
    "#### 1.4 Dependent Function types"
   ]
  },
  {
   "cell_type": "code",
   "execution_count": null,
   "id": "21232ca7",
   "metadata": {},
   "outputs": [],
   "source": []
  }
 ],
 "metadata": {
  "kernelspec": {
   "display_name": "Python 3",
   "language": "python",
   "name": "python3"
  },
  "language_info": {
   "codemirror_mode": {
    "name": "ipython",
    "version": 3
   },
   "file_extension": ".py",
   "mimetype": "text/x-python",
   "name": "python",
   "nbconvert_exporter": "python",
   "pygments_lexer": "ipython3",
   "version": "3.8.6"
  }
 },
 "nbformat": 4,
 "nbformat_minor": 5
}

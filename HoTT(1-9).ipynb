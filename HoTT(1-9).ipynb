{
 "cells": [
  {
   "cell_type": "markdown",
   "id": "cf47cafb",
   "metadata": {},
   "source": [
    "1-9"
   ]
  },
  {
   "cell_type": "markdown",
   "id": "297a2155",
   "metadata": {},
   "source": [
    "ここまでは、抽象的な操作で新しい型を作るためのルールでしたが、具体的な数学を行うためには、数の型などの具体的な型も必要です。最も基本的なものは，自然数の型N : Uであり，これができれば，整数，有理数，実数などを作ることができます（第11章参照）．"
   ]
  },
  {
   "cell_type": "markdown",
   "id": "2ec05251",
   "metadata": {},
   "source": [
    "Nの要素は、0 : Nの要素は、0 : Nとsuccessor演算successor : N → Nで構成されます。\n",
    "\n",
    "自然数を表す際には、通常の10進法による表記を採用します。 1 :≡ succ(0), 2 :≡ succ(1), 3 :≡ succ(2), ....."
   ]
  },
  {
   "cell_type": "markdown",
   "id": "19e6e708",
   "metadata": {},
   "source": [
    "自然数の本質的な性質は、再帰によって関数を定義し、帰納法によって証明を行うことができることです。\n",
    "\n",
    "自然数からnon-dependent function $f : N → C$を再帰によって構成するには、「starting point」$c_0 : C$と、「next step」の関数$c_s:N → C → C$を用意すれば良い。"
   ]
  },
  {
   "cell_type": "markdown",
   "id": "b6d14fc2",
   "metadata": {},
   "source": [
    "これにより、次のような定義式を持つfが生まれます。\n",
    "\n",
    "$$f(0) :≡ c_0$$\n",
    "$$f (succ(n)) :≡ c_s (n, f (n))$$\n",
    "\n",
    "ここで、$f$は原始再帰(primitive recursion)によって定義されるという。"
   ]
  },
  {
   "cell_type": "markdown",
   "id": "b213d601",
   "metadata": {},
   "source": [
    "例として、引数を2倍にする自然数上の関数を定義する方法を見てみましょう。\n",
    "\n",
    "この場合、C :≡Nとなります。まずdouble(0)の値を与える必要がありますが、これは簡単で、$c_0 :≡0$とします。\n",
    "\n",
    "次に、ある自然数 n に対して double(succ(n)) の値を計算するには、まず double(n) の値を計算し、その後、successor 演算を2回行う。\n",
    "\n",
    "これは$c_s(n,y) :≡ succ(succ(y))$という再帰によって捉えられる。なお、$c_s$の第2引数yは再帰呼び出し(recursive call)double(n)の結果を表している。"
   ]
  },
  {
   "cell_type": "markdown",
   "id": "96e2b20d",
   "metadata": {},
   "source": [
    "したがって、このように原始再帰によってdouble : N → Nを定義すると、定義式が得られる。\n",
    "\n",
    "$$double(0):\\equiv 0$$\n",
    "$$double(succ(n)) :≡ succ(succ(double(n)))$$"
   ]
  },
  {
   "cell_type": "markdown",
   "id": "21e929e4",
   "metadata": {},
   "source": [
    "$$double(2) ≡ double(succ(succ(0)))\\\\\n",
    "≡ c_s(succ(0),double(succ(0))) \\\\\n",
    "≡ succ(succ(double(succ(0)))) \\\\\n",
    "≡ succ(succ(c_s (0, double(0))))\\\\\n",
    "≡ succ(succ(succ(succ(double(0))))) \\\\\n",
    "≡ succ(succ(succ(succ(c_0))))\\\\\n",
    "≡ succ(succ(succ(succ(0))))\\\\\n",
    "≡ 4.$$\n",
    "\n",
    "https://encyclopediaofmath.org/wiki/Primitive_recursion"
   ]
  },
  {
   "cell_type": "markdown",
   "id": "b6a1673f",
   "metadata": {},
   "source": [
    "原始再帰によっても、Cを関数型にしてカリー化することで、多変数関数を定義することができます。\n",
    "\n",
    "例えば、C :≡ N → N と次のような「starting point」と「next step」のデータを使って、加算 add : N → N を定義します。"
   ]
  },
  {
   "cell_type": "markdown",
   "id": "f9395aad",
   "metadata": {},
   "source": [
    "$$\n",
    "c_0 : N → N \\\\\n",
    "c_0(n) :≡ n\\\\\n",
    "c_s :N→(N→N)→(N→N) \\\\\n",
    "c_s(m, g)(n) :≡ succ(g(n)).$$"
   ]
  },
  {
   "cell_type": "markdown",
   "id": "1bb6c9bf",
   "metadata": {},
   "source": [
    "このようにして、add : N → N → N は、定義上の等式 \n",
    "\n",
    "$$add(0, n) ≡ n\\\\\n",
    "add(succ(m), n) ≡ succ(add(m, n)) $$\n",
    "\n",
    " を満たす。"
   ]
  },
  {
   "cell_type": "markdown",
   "id": "cd2e06e2",
   "metadata": {},
   "source": [
    "これまでの例と同様に、原始再帰の原理を再帰的にパッケージ化することができます。\n",
    "\n",
    "$$rec_N:\\prod_{(C:U)}C\\to (N\\to C\\to C)\\to N \\to C$$"
   ]
  },
  {
   "cell_type": "markdown",
   "id": "268fdd75",
   "metadata": {},
   "source": [
    "with the defining equations\n",
    "\n",
    "$$rec_N(C, c_0, c_s, 0) :≡ c_0 \\\\\n",
    "rec_N(C, c_0, c_s, succ(n)) :≡ c_s(n, rec_N(C, c_0, c_s, n))$$"
   ]
  },
  {
   "cell_type": "markdown",
   "id": "4485ce8d",
   "metadata": {},
   "source": [
    "rec_Nを用いることで私たちはdoubleやaddを以下のように表現できる。\n",
    "\n",
    "$$double :≡ rec_N(N, 0, λn.λy.succ(succ(y)))\\\\\n",
    "add :≡ rec_N(N→N, λn.n, λn.λg.λm.succ(g(m))$$"
   ]
  },
  {
   "cell_type": "markdown",
   "id": "da7bebb5",
   "metadata": {},
   "source": [
    "もちろん、原始再帰原理でしか定義できない関数はすべて計算可能です。<br>\n",
    "(しかし，高次の関数型，つまり，他の関数を引数に持つ関数の存在は，通常の原始再帰関数よりも多くの関数を定義できることを意味している。\n",
    "\n",
    "これは構成的な数学では適切なことです。3.4章と3.8章では，より一般的な数学関数を定義できるように型理論を拡張する方法を見ていきます。"
   ]
  },
  {
   "cell_type": "markdown",
   "id": "533ccb91",
   "metadata": {},
   "source": [
    "ここでは、他の型と同様のアプローチで、原始再帰をdependent functionに一般化して帰納原理を得る。\n",
    "\n",
    "そこで、$C : N → U$という族と、$c_0 : C(0)$という要素と、$c_s : \\prod_{(n:N)} C(n) → C(succ(n))$という関数が与えられたとすると、\n",
    "\n",
    "$f : \\prod_{(n:N)}C(n)$を以下の定義式で構成できる。\n",
    "\n",
    "$$f(0) :≡ c_0\\\\\n",
    "f (succ(n)) :≡ c_s (n, f (n))$$"
   ]
  },
  {
   "cell_type": "markdown",
   "id": "28de65f4",
   "metadata": {},
   "source": [
    "私たちはこれを一つの関数にパッケージ化できる。\n",
    "\n",
    "$$ind_N:\\prod_{(C:N\\to U)}C(0) \\to \\left(\\prod_{(n:N)}C(n)\\to C(succ(n))\\right) \\to \\prod_{(n:N)}C(n)$$"
   ]
  },
  {
   "cell_type": "markdown",
   "id": "389f9817",
   "metadata": {},
   "source": [
    "$$indN(C, c_0, c_s, 0) :≡ c_0\\\\\n",
    "indN(C, c_0, c_s, succ(n)) :≡ cs(n, indN(C, c_0, c_s, n)).$$"
   ]
  },
  {
   "cell_type": "markdown",
   "id": "9b615d1f",
   "metadata": {},
   "source": [
    " ここでようやく、古典的な帰納法による証明の概念とのつながりが見えてきました。\n",
    " \n",
    " 型理論では、命題を型で表し、対応する型の中身を作ることで命題を証明することを思い出してください。\n",
    " \n",
    " この観点から、上記の帰納原理は、P(0)を証明でき、任意のnに対してP(n)を仮定してP(succ(n))を証明できれば、すべてのnに対してP(n)を持つ、というものです。 これはもちろん、自然数に対する通常の帰納法による証明の原理と全く同じです。"
   ]
  },
  {
   "cell_type": "markdown",
   "id": "7a95734a",
   "metadata": {},
   "source": [
    "例として、+が連想的であることの明示的な証明をどのように表現するかを考えてみましょう。\n",
    "\n",
    "(実際にはこのようなスタイルで証明を書くことはありませんが、型理論で帰納法がどのように形式的に表現されるかを理解するための有用な例となります)。"
   ]
  },
  {
   "cell_type": "markdown",
   "id": "d3f8d892",
   "metadata": {},
   "source": [
    "$$assoc : \\prod_{i,j,k:N} i+(j+k)=(i+j) + k $$"
   ]
  },
  {
   "cell_type": "markdown",
   "id": "ca8bd310",
   "metadata": {},
   "source": [
    "$$assoc_0 : \\prod_{j,k:N} 0+(j+k)=(0+j) + k $$"
   ]
  },
  {
   "cell_type": "markdown",
   "id": "5b87cc47",
   "metadata": {},
   "source": [
    "$$assoc_s \\prod_{i:N}\\left(\\prod_{j,k:N}i+(j+k)=(i+j)+k \\right) \\to \\prod_{j,k:N}succ(i)+(j+k)=(succ(i)+j)+k$$"
   ]
  },
  {
   "cell_type": "markdown",
   "id": "2b0177d5",
   "metadata": {},
   "source": [
    "$assoc_0$を導き出すには、0 + n≡n、したがって、0 + (j + k) ≡ j + k≡ (0 + j) + kとなるので<br>\n",
    "$assoc_0(j, k) :≡ refl_j+k $とすればよい。\n",
    "\n",
    "$assoc_s$については、+の定義で$succ(m) + n≡succ(m + n)$となるので<br>\n",
    "$succ(i) + (j + k) ≡ succ(i + (j + k))$ となり、<br>\n",
    "$(succ(i) + j) + k ≡ succ((i + j) + k)$ となる。"
   ]
  },
  {
   "cell_type": "markdown",
   "id": "a9882a96",
   "metadata": {},
   "source": [
    "したがって、$assoc_s$の出力型は、等価に$succ(i + (j + k)) = succ((i + j) + k)$となる。しかし，その入力（「帰納的仮説」）からは，$i + (j + k) = (i + j) + k$が得られるので，2つの自然数が等しいならば，そのsuccessorも等しいという事実を援用すれば十分である。\n",
    "(この明白な事実は、恒等式の帰納法を用いて、Lemma 2.2.1で証明します)。"
   ]
  },
  {
   "cell_type": "markdown",
   "id": "44da05a5",
   "metadata": {},
   "source": [
    "この後者の事実を $ap_{succ} : (m =N n) → (succ(m) =N succ(n)) $と呼ぶことにして、次のように定義する。\n",
    "$assoc_s(i, h, j, k) :≡ ap_{succ}(h(j, k))$ と定義することができる。"
   ]
  },
  {
   "cell_type": "markdown",
   "id": "2b6af5be",
   "metadata": {},
   "source": [
    "これらを$ind_N$と合わせて考えると、連想性の証明が得られます。"
   ]
  },
  {
   "cell_type": "code",
   "execution_count": null,
   "id": "ac88dd97",
   "metadata": {},
   "outputs": [],
   "source": []
  }
 ],
 "metadata": {
  "kernelspec": {
   "display_name": "Python 3",
   "language": "python",
   "name": "python3"
  },
  "language_info": {
   "codemirror_mode": {
    "name": "ipython",
    "version": 3
   },
   "file_extension": ".py",
   "mimetype": "text/x-python",
   "name": "python",
   "nbconvert_exporter": "python",
   "pygments_lexer": "ipython3",
   "version": "3.8.6"
  }
 },
 "nbformat": 4,
 "nbformat_minor": 5
}

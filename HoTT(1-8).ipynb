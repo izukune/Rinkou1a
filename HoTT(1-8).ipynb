{
 "cells": [
  {
   "cell_type": "markdown",
   "id": "da84a706",
   "metadata": {},
   "source": [
    "### 1.8 The type of booleans"
   ]
  },
  {
   "cell_type": "markdown",
   "id": "04b6ecad",
   "metadata": {},
   "source": [
    "ブーリアンの型 $2 : U$ は，ちょうど2つの要素 $0_2,1_2 : 2$ を持つように意図されている．この型は，coproduct typeとunit typeから$1＋1$として構成できることは明らかです．\n",
    "\n",
    "しかし，この型は頻繁に使用されるので，ここでは明示的な規則を与えることにする．\n",
    "\n",
    "実際、逆にΣ型と2からbinary coproductsを導出することも可能であることを観察するつもりである。"
   ]
  },
  {
   "cell_type": "markdown",
   "id": "42892d5e",
   "metadata": {},
   "source": [
    "$f:2\\to C$を導出するために、私たちは$c_0, c_1:C$が必要で、定義式\n",
    "$$f(0_2) :\\equiv c_0$$\n",
    "$$f(1_2) :\\equiv c_1$$\n",
    "を加える"
   ]
  },
  {
   "cell_type": "markdown",
   "id": "7aab81bf",
   "metadata": {},
   "source": [
    "リカーサーは、関数型プログラミングのif-then-else構文に相当します。"
   ]
  },
  {
   "cell_type": "markdown",
   "id": "4f962d6e",
   "metadata": {},
   "source": [
    "$$rec_2 :\\prod _{C:U}C\\to C \\to 2 \\to C$$"
   ]
  },
  {
   "cell_type": "markdown",
   "id": "97503c0b",
   "metadata": {},
   "source": [
    "以下のような定義式を用いている。\n",
    "$$rec_2(C, c_0, c_1,0_2) :\\equiv c_0$$\n",
    "$$rec_2(C, c_0, c_1,1_2) :\\equiv c_1$$"
   ]
  },
  {
   "cell_type": "markdown",
   "id": "a5501cfa",
   "metadata": {},
   "source": [
    "C : 2 → Uが与えられたとき、dependent function $f : \\prod_{(x:2)} C(x)$を導くためには、$c_0 : C(0_2)$と$c_1 : C(1_2)$が必要であり、その場合には定義式を与えることができます。\n",
    "$$f(0_2) :≡c_0, f(1_2) :≡c_1$$"
   ]
  },
  {
   "cell_type": "markdown",
   "id": "ee289d0a",
   "metadata": {},
   "source": [
    "帰納原理は\n",
    "$$ind_2:\\prod_{(C:2\\to U)}C(0_2) \\to C(1_2)\\to \\prod_{(x:2)}C(x)$$"
   ]
  },
  {
   "cell_type": "markdown",
   "id": "ef6255bc",
   "metadata": {},
   "source": [
    "例として、帰納原理を用いて、予想通り、2のすべての要素は$1_2$か$0_2$のどちらかであることを推論することができます。\n",
    "\n",
    "前述のように、このことを述べるためには、まだ紹介していない等式を使いますが、必要なのは、$refl_x : x = x$によって、すべてのものがそれ自身に等しいという事実だけです。"
   ]
  },
  {
   "cell_type": "markdown",
   "id": "1706c1a8",
   "metadata": {},
   "source": [
    "私たちは$\\prod_{x:2}(x=0_2)+(x=1_2)$の要素を構成する。これは各x：2に、$x＝0_2$または$x＝1_2$という等式を割り当てる関数です。"
   ]
  },
  {
   "cell_type": "markdown",
   "id": "7cb40ab1",
   "metadata": {},
   "source": [
    "$C(x) :≡ (x = 0_2) + (x = 1_2)$ とし、2の帰納法を用いてこの要素を定義します。\n",
    "\n",
    "2つの入力は、$inl(refl_{02} ) : C(0_2)$ と $inr(refl_{12} ) : C(1_2)$ です。"
   ]
  },
  {
   "cell_type": "markdown",
   "id": "26d2bba1",
   "metadata": {},
   "source": [
    "言い換えると\n",
    "\n",
    "$$ind2(\\lambda x. (x = 0_2) + (x = 1_2), inl(refl_{02} ), inr(refl_{12} ))$$"
   ]
  },
  {
   "cell_type": "markdown",
   "id": "80dc4a32",
   "metadata": {},
   "source": [
    "Σ型はインデックス付きのdisjoint unionに似ているが，coproductsはbinary disjoint unionsであることを述べた．\n",
    "\n",
    "2つの要素を持つタイプ2の上に、2つの分離した組合A + Bがインデックス付きのものとして構築されることを期待するのは自然なことです。\n",
    "\n",
    "そのためには、$P(0_2)≡A$、$P(1_2)≡B$となるような族$P : 2 \\to U$が必要である。\n",
    "\n",
    "実際、2の再帰原理によって正確にこのような族を得ることができる。 \n",
    "\n",
    "(universe Uがそれ自体で型であるという事実を利用して、帰納法と再帰法によって型族を定義できることは、型理論の微妙で重要な側面である)。"
   ]
  },
  {
   "cell_type": "markdown",
   "id": "d1137c5c",
   "metadata": {},
   "source": [
    "したがって私たちは以下を定義した。\n",
    "$$A+B :\\equiv \\Sigma_{x:2} rec_2(U,A,B,x)$$\n",
    "\n",
    "with\n",
    "$$inl(a) :\\equiv (0_2,a)$$\n",
    "$$inr(b) :\\equiv (1_2,b)$$"
   ]
  },
  {
   "cell_type": "markdown",
   "id": "75d442c9",
   "metadata": {},
   "source": [
    "この定義から，coproduct typeの帰納原理を導くことは，課題として残しておきましょう。(練習問題1.5と5.2章も参照)。"
   ]
  },
  {
   "cell_type": "markdown",
   "id": "486a02b8",
   "metadata": {},
   "source": [
    "私たちは同じアイデアをproduct-typeと$\\prod$-typeに適用させ\n",
    "\n",
    "$$A \\times B :\\equiv \\prod_{x:2}rec_2(U,A,B,x)$$\n"
   ]
  },
  {
   "cell_type": "markdown",
   "id": "158fd847",
   "metadata": {},
   "source": [
    "Pairsは2に関する帰納を用いて\n",
    "$$(a,b):\\equiv ind_2(rec_2(U,A,B), a, b)$$\n",
    "と構成される。"
   ]
  },
  {
   "cell_type": "markdown",
   "id": "60376739",
   "metadata": {},
   "source": [
    "$$pr_1:\\equiv p(0_2)$$\n",
    "$$pr_2:\\equiv p(1_2)$$"
   ]
  },
  {
   "cell_type": "markdown",
   "id": "3aba4075",
   "metadata": {},
   "source": [
    "このように定義された二項積の帰納原理の導出は，もう少し複雑で，2.9章で紹介する関数の拡張性を必要とします。\n",
    "\n",
    "さらに，同じ判定式の等式は得られません；練習1.6参照．これは，ある型を別の型として符号化するときに繰り返し起こる問題で，5.5章で説明します。"
   ]
  },
  {
   "cell_type": "markdown",
   "id": "256cec84",
   "metadata": {},
   "source": [
    "2の要素$0_2$と$1_2$を、それぞれ「偽」と「真」と呼ぶことがあります。\n",
    "\n",
    "しかし，古典数学とは異なり，2の要素を真理値や命題としては使用しないことに注意してください。(代わりに、命題と型を識別します。1.11章参照)。\n",
    "\n",
    "特に、A→2の型は、一般的にAのthe power of setではなく，<br>\n",
    "Aの「決定可能な」部分集合のみを表します（第3章参照）．"
   ]
  },
  {
   "cell_type": "markdown",
   "id": "cf74c96e",
   "metadata": {},
   "source": [
    "`In set theory, the power set (or powerset) of a Set A is defined as the set of all subsets of the Set A including the Set itself and the null or empty set. It is denoted by P(A). Basically, this set is the combination of all subsets including null set, of a given set.`"
   ]
  },
  {
   "cell_type": "code",
   "execution_count": null,
   "id": "ee1cbd3a",
   "metadata": {},
   "outputs": [],
   "source": []
  }
 ],
 "metadata": {
  "kernelspec": {
   "display_name": "Python 3",
   "language": "python",
   "name": "python3"
  },
  "language_info": {
   "codemirror_mode": {
    "name": "ipython",
    "version": 3
   },
   "file_extension": ".py",
   "mimetype": "text/x-python",
   "name": "python",
   "nbconvert_exporter": "python",
   "pygments_lexer": "ipython3",
   "version": "3.8.6"
  }
 },
 "nbformat": 4,
 "nbformat_minor": 5
}

{
 "cells": [
  {
   "cell_type": "markdown",
   "id": "2861ac28",
   "metadata": {},
   "source": [
    "## 1.7  Coproduct types"
   ]
  },
  {
   "cell_type": "markdown",
   "id": "187365ac",
   "metadata": {},
   "source": [
    "$A, B : U$が与えられたとき，それらの __coproduct__ type $A + B : U$ を導入する．\n",
    "\n",
    "これは集合論における離合集散に対応するものであり，その名称を使用する．\n",
    "\n",
    "型理論では，functionsやproductsの場合と同様に， coproductは基本的な構成でなければならない．\n",
    "\n",
    "なぜなら，「型の結合(union of types)」という概念が以前に与えられていないからである．また，\n",
    "\n",
    "また同様に空の型(__empty type__)である$0 : U$を導入する。"
   ]
  },
  {
   "cell_type": "markdown",
   "id": "8a1bcf52",
   "metadata": {},
   "source": [
    "$A + B$の要素を構成するには、$a : A$に対して$inl(a) : A + B$とする方法と、$b : B$に対して$inr(b) : A + B$とする方法があります（inlとinrという名前は、「左注入」と「右注入」の略です）。\n",
    "\n",
    "(inlとinrは \"left injection \"と \"right injection \"の略です。) \n",
    "\n",
    "空の型の要素を作る方法はありません。"
   ]
  },
  {
   "cell_type": "markdown",
   "id": "9a4d6a60",
   "metadata": {},
   "source": [
    "non-dependent function $f : A + B → C$を構成するには、関数$g_0 : A → C$、$g_1 : B → C$が必要で、$f$は定義式で定義されます。"
   ]
  },
  {
   "cell_type": "markdown",
   "id": "1b35b603",
   "metadata": {},
   "source": [
    "$$f(inl(a)):\\equiv g_0(a)$$\n",
    "\n",
    "$$f(inr(b)):\\equiv g_1(b)$$"
   ]
  },
  {
   "cell_type": "markdown",
   "id": "87d7e7db",
   "metadata": {},
   "source": [
    "つまり、関数fはcase analysisによって定義されます。先ほどと同様に、リカーサーを導出することができます。"
   ]
  },
  {
   "cell_type": "markdown",
   "id": "d7383dc0",
   "metadata": {},
   "source": [
    "$$rec_{A+B}: \\prod_{(C:U)}(A \\to C) \\to (B \\to C) \\to A + B \\to C$$\n",
    "\n",
    "以下の定義式を用いる。\n",
    "$$rec_{A+B}(C, g_0, g_1, inl(a)) :\\equiv g_0(a)$$\n",
    "\n",
    "$$rec_{A+B}(C, g_0, g_1, inr(b)) :\\equiv g_1(b)$$"
   ]
  },
  {
   "cell_type": "markdown",
   "id": "dab01bc9",
   "metadata": {},
   "source": [
    "関数f : 0 → Cは、定義式を与えることなく、常に構築することができます。なぜなら、$f$を定義するための0の要素がないからです。よって0のリカーサーは\n",
    "$$rec_0:\\prod_{(C:U)}0\\to C$$"
   ]
  },
  {
   "cell_type": "markdown",
   "id": "ad9168f7",
   "metadata": {},
   "source": [
    "これは、空の型から他の任意の型への正準関数を構成するものです。論理的には、ex falso quodlibetという原則に対応しています。"
   ]
  },
  {
   "cell_type": "markdown",
   "id": "30cd7098",
   "metadata": {},
   "source": [
    "coproductを使わずにdependent function $f:\\prod_{(x:A+B)} C(x)$を構築するには、族$C:(A+B)\\to U$が与えられているものとして、次のような要求をする。\n",
    "$$g_0 : \\prod_{a:A}C(inl(a))$$\n",
    "\n",
    "$$g_1 : \\prod_{b:B}C(inr(b))$$"
   ]
  },
  {
   "cell_type": "markdown",
   "id": "a53ef798",
   "metadata": {},
   "source": [
    "これにより、定義式を持つ$f$が得られる。\n",
    "$$f (inl(a)) :≡g_0(a)$$\n",
    "$$f (inr(b)) :≡ g_1(b)$$"
   ]
  },
  {
   "cell_type": "markdown",
   "id": "78a1b0b9",
   "metadata": {},
   "source": [
    "この方式を、coproductの帰納原理にパッケージ化すると\n",
    "$$ind_{A+B}: \\prod_{(C:(A+B)\\to U}       (\\prod_{(a:A)}C(inl(a))) \\to (\\prod_{(b:B)}C(inr(b))) \\to \\prod_{(x:A+B)}C(x)$$"
   ]
  },
  {
   "cell_type": "markdown",
   "id": "07acdc7e",
   "metadata": {},
   "source": [
    "先ほどと同様に、ファミリーCが一定である場合には、再帰的に発生します。空の型に対する帰納原理,\n",
    "\n",
    "$$ind_0 : \\prod _{(C:0\\to U)} \\prod_{z:0}C(z)$$\n",
    "は、空の型からトリビアルなdependent functionを定義する方法を与えてくれます。"
   ]
  },
  {
   "cell_type": "code",
   "execution_count": null,
   "id": "b1c21867",
   "metadata": {},
   "outputs": [],
   "source": []
  }
 ],
 "metadata": {
  "kernelspec": {
   "display_name": "Python 3",
   "language": "python",
   "name": "python3"
  },
  "language_info": {
   "codemirror_mode": {
    "name": "ipython",
    "version": 3
   },
   "file_extension": ".py",
   "mimetype": "text/x-python",
   "name": "python",
   "nbconvert_exporter": "python",
   "pygments_lexer": "ipython3",
   "version": "3.8.6"
  }
 },
 "nbformat": 4,
 "nbformat_minor": 5
}
